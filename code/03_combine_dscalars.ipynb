{
 "cells": [
  {
   "cell_type": "code",
   "execution_count": 51,
   "metadata": {},
   "outputs": [],
   "source": [
    "import os\n",
    "import nibabel as nib"
   ]
  },
  {
   "cell_type": "code",
   "execution_count": 73,
   "metadata": {},
   "outputs": [
    {
     "data": {
      "text/plain": [
       "10"
      ]
     },
     "execution_count": 73,
     "metadata": {},
     "output_type": "execute_result"
    }
   ],
   "source": [
    "day1 = \"/scratch/a/arisvoin/jjee/gradients_dscalar/day1\"\n",
    "day2 = \"/scratch/a/arisvoin/jjee/gradients_dscalar/day2\"\n",
    "\n",
    "f1 = open(\"wb_commands_merge_day1.sh\", \"w\")\n",
    "f2 = open(\"wb_commands_merge_day2.sh\", \"w\")\n",
    "\n",
    "f1.write(\"#!/bin/sh\\n\")\n",
    "f2.write(\"#!/bin/sh\\n\")\n"
   ]
  },
  {
   "cell_type": "code",
   "execution_count": 74,
   "metadata": {},
   "outputs": [],
   "source": [
    "\n",
    "'123723_rfMRI_REST2_Atlas_hp2000_clean2sm4_gradients.dscalar.nii'\n",
    "\n",
    "subs = [\"553344\", \"169949\", \"309636\", \"761957\", \n",
    "        \"162026\", \"555651\", \"561444\", \"180432\", \n",
    "        \"100610\", \"204622\"]\n",
    "\n",
    "i = 1\n",
    "while i <= 10:\n",
    "    f1.write(\"wb_command -cifti-merge \" + day1 + \"/all/grad\"+\n",
    "            str(i) + \"_all_sub.dscalar.nii \\\\\\n\")\n",
    "    \n",
    "    for sub in subs:\n",
    "        f1.write(\"-cifti \" + day1 + \"/\" + sub + \n",
    "                 \"_rfMRI_REST\" + \"1\" + \"_Atlas_hp2000_clean2sm4_gradients.dscalar.nii\" +\n",
    "                 \" -column \" + str(i))\n",
    "        if sub == subs[-1]:\n",
    "            f1.write(\"\\n\")\n",
    "        else:\n",
    "            f1.write(\" \\\\\\n\")\n",
    "    \n",
    "    i = i + 1\n",
    "    \n",
    "f1.close()\n"
   ]
  },
  {
   "cell_type": "code",
   "execution_count": 14,
   "metadata": {},
   "outputs": [
    {
     "data": {
      "text/plain": [
       "'.nii'"
      ]
     },
     "execution_count": 14,
     "metadata": {},
     "output_type": "execute_result"
    }
   ],
   "source": [
    "os.path.splitext(sub)[-1]"
   ]
  },
  {
   "cell_type": "code",
   "execution_count": 75,
   "metadata": {},
   "outputs": [],
   "source": [
    "i = 1\n",
    "while i <= 10:\n",
    "    f2.write(\"wb_command -cifti-merge \" + day2 + \"/all/grad\"+\n",
    "            str(i) + \"_all_sub.dscalar.nii \\\\\\n\")\n",
    "    \n",
    "    for sub in subs:\n",
    "#         if os.path.splitext(sub)[-1] == \".nii\":\n",
    "        f2.write(\"-cifti \" + day2 + \"/\" + sub + \n",
    "                 \"_rfMRI_REST\" + \"2\" + \"_Atlas_hp2000_clean2sm4_gradients.dscalar.nii\" +\n",
    "                 \" -column \" + str(i))\n",
    "        if sub == os.listdir(day1)[-1]:\n",
    "            f2.write(\"\\n\")\n",
    "        else:\n",
    "            f2.write(\" \\\\\\n\")\n",
    "    \n",
    "    i = i + 1\n",
    "    \n",
    "f2.close()"
   ]
  },
  {
   "cell_type": "code",
   "execution_count": 76,
   "metadata": {},
   "outputs": [],
   "source": [
    "%%bash\n",
    "./wb_commands_merge_day1.sh\n",
    "./wb_commands_merge_day2.sh"
   ]
  }
 ],
 "metadata": {
  "kernelspec": {
   "display_name": "gradients",
   "language": "python",
   "name": "gradients"
  },
  "language_info": {
   "codemirror_mode": {
    "name": "ipython",
    "version": 3
   },
   "file_extension": ".py",
   "mimetype": "text/x-python",
   "name": "python",
   "nbconvert_exporter": "python",
   "pygments_lexer": "ipython3",
   "version": "3.6.8"
  }
 },
 "nbformat": 4,
 "nbformat_minor": 2
}

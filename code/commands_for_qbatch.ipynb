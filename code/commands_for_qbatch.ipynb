{
 "cells": [
  {
   "cell_type": "code",
   "execution_count": 19,
   "metadata": {},
   "outputs": [],
   "source": [
    "import os\n",
    "import stat"
   ]
  },
  {
   "cell_type": "code",
   "execution_count": 2,
   "metadata": {},
   "outputs": [],
   "source": [
    "\n",
    "HCPdir = \"/scratch/a/arisvoin/edickie/HCP_1200_cleaned/cleaned_sm4\"\n",
    "step_1 = open(\"qbatch_dtseries_to_dconn.txt\", \"w\")\n",
    "\n",
    "for sub in os.listdir(HCPdir):\n",
    "    sub = os.path.join(HCPdir, sub)\n",
    "    if os.path.isdir(sub):\n",
    "        step_1.write(\"~/scratch/sh/dtseries_to_dconn.sh \" + sub + \"\\n\")\n",
    "        \n",
    "step_1.close()"
   ]
  },
  {
   "cell_type": "code",
   "execution_count": 5,
   "metadata": {},
   "outputs": [],
   "source": [
    "dconn_dir = \"/scratch/a/arisvoin/jjee/dconn\"\n",
    "step_2 = open(\"qbatch_dconn_to_gradients.txt\", \"w\")\n",
    "\n",
    "for sub in os.listdir(HCPdir):\n",
    "    if os.path.isdir(os.path.join(HCPdir, sub)):\n",
    "        sub = os.path.join(dconn_dir, sub)\n",
    "        step_2.write(\"~/scratch/sh/dconn_to_gradients.sh \" + sub + \"\\n\")\n",
    "        \n",
    "step_2.close()"
   ]
  },
  {
   "cell_type": "code",
   "execution_count": 28,
   "metadata": {},
   "outputs": [],
   "source": [
    "# make commands in a txt file for merging gradients\n",
    "grad_dir = \"/scratch/a/arisvoin/jjee/gradients_txt\"\n",
    "\n",
    "# command to run multiple qbatch commands\n",
    "merge_grad = open(\"merge_gradients.txt\", \"w\")\n",
    "\n",
    "# command to run merge_gradient_by_day.py\n",
    "merge_command = \"python /scratch/a/arisvoin/jjee/merge_gradient_by_day.py \"\n",
    "\n",
    "# create /scratch/a/arisvoin/jjee/sh/merge_commands directory\n",
    "merge_commands_dir = \"/scratch/a/arisvoin/jjee/sh/merge_commands\"\n",
    "\n",
    "# directory to store merged directories\n",
    "merged_day1_dir = \"/scratch/a/arisvoin/jjee/gradients_merged/day1\"\n",
    "merged_day2_dir = \"/scratch/a/arisvoin/jjee/gradients_merged/day2\"\n",
    "\n",
    "\n",
    "if not os.path.exists(merge_commands_dir):\n",
    "    os.makedirs(merge_commands_dir)\n",
    "\n",
    "for grad_no in range(1, 11):\n",
    "    f1name = \"merge_grad\" + str(grad_no) + \"_day1.sh\"\n",
    "    f2name = \"merge_grad\" + str(grad_no) + \"_day2.sh\"\n",
    "    \n",
    "    f1name = \"/scratch/a/arisvoin/jjee/sh/merge_commands/\" + f1name\n",
    "    f2name = \"/scratch/a/arisvoin/jjee/sh/merge_commands/\" + f2name\n",
    "\n",
    "    f1 = open(f1name, \"w\")\n",
    "    f2 = open(f2name, \"w\")\n",
    "    \n",
    "    for f in [f1, f2]:\n",
    "        # declare all variable needed to call merge_gradient_by_day.py\n",
    "        f.write(\"#!/bin/sh \\n\")\n",
    "        f.write(\"grad_no=$1 \\n\")\n",
    "        f.write(\"day=$2 \\n\")\n",
    "        f.write(\"grad_dir=$3 \\n\")\n",
    "        f.write(\"merged_dir=$4 \\n\")\n",
    "        \n",
    "        # activate virtualenv\n",
    "        f.write(\"source ~/.virtualenvs/gradients/bin/activate \\n\")\n",
    "        # call merge_gradient_by_day.py\n",
    "        f.write(merge_command + \" $grad_no\" + \" $day\" + \" $grad_dir\" + \" $merged_dir \\n\")\n",
    "        \n",
    "        # close file\n",
    "        f.close()\n",
    "        \n",
    "        # make the file executable\n",
    "        st = os.stat(f1name)\n",
    "        os.chmod(f1name, st.st_mode | 111)\n",
    "    \n",
    "    merge_grad.write(f1name + \" \" + \n",
    "                     str(grad_no) + \" \" +\n",
    "                     \"1\" + \" \" + \n",
    "                     grad_dir + \" \" +\n",
    "                     merged_day1_dir + \"\\n\")\n",
    "    \n",
    "    merge_grad.write(f1name + \" \" + \n",
    "                     str(grad_no) + \" \" + \n",
    "                     \"2\" + \" \" + \n",
    "                     grad_dir + \" \" +\n",
    "                     merged_day2_dir + \"\\n\")\n",
    "    \n",
    "    \n",
    "merge_grad.close()"
   ]
  },
  {
   "cell_type": "code",
   "execution_count": null,
   "metadata": {},
   "outputs": [],
   "source": []
  }
 ],
 "metadata": {
  "kernelspec": {
   "display_name": "gradients",
   "language": "python",
   "name": "gradients"
  },
  "language_info": {
   "codemirror_mode": {
    "name": "ipython",
    "version": 3
   },
   "file_extension": ".py",
   "mimetype": "text/x-python",
   "name": "python",
   "nbconvert_exporter": "python",
   "pygments_lexer": "ipython3",
   "version": "3.6.8"
  }
 },
 "nbformat": 4,
 "nbformat_minor": 2
}
